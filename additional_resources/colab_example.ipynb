{
  "nbformat": 4,
  "nbformat_minor": 0,
  "metadata": {
    "colab": {
      "provenance": []
    },
    "kernelspec": {
      "name": "python3",
      "display_name": "Python 3"
    },
    "language_info": {
      "name": "python"
    },
    "accelerator": "GPU",
    "gpuClass": "standard"
  },
  "cells": [
    {
      "cell_type": "markdown",
      "source": [
        "# **First clone the Repository**"
      ],
      "metadata": {
        "id": "_FpNOkR5J9jh"
      }
    },
    {
      "cell_type": "code",
      "execution_count": null,
      "metadata": {
        "id": "Wq-ackcIwPtW"
      },
      "outputs": [],
      "source": [
        "!git clone https://github.com/Konnsy/REAML2022-hackathon.git"
      ]
    },
    {
      "cell_type": "markdown",
      "source": [
        "# Download the datasets "
      ],
      "metadata": {
        "id": "6OpU6I1dKYQV"
      }
    },
    {
      "cell_type": "code",
      "source": [
        "%cd REAML2022-hackathon/provided_code/task1_code_frame/datasets"
      ],
      "metadata": {
        "id": "al9SiH8QGA37"
      },
      "execution_count": null,
      "outputs": []
    },
    {
      "cell_type": "code",
      "source": [
        "%pip install wget "
      ],
      "metadata": {
        "id": "_m7QHhO69qb6"
      },
      "execution_count": null,
      "outputs": []
    },
    {
      "cell_type": "code",
      "source": [
        "%pip install pyunpack"
      ],
      "metadata": {
        "id": "W-DhHIvH90Ko"
      },
      "execution_count": null,
      "outputs": []
    },
    {
      "cell_type": "code",
      "source": [
        "%pip install patool"
      ],
      "metadata": {
        "id": "DS8cHmtqE4FX"
      },
      "execution_count": null,
      "outputs": []
    },
    {
      "cell_type": "code",
      "source": [
        "import os\n",
        "import wget\n",
        "from pyunpack import Archive\n",
        "\n",
        "wget.download(\"https://tu-dortmund.sciebo.de/s/Fr899VLesLbj6Ao/download\") #Change url to wherever the data is\n",
        "#os.rename('datasets_task_1','datasets_task_1.7z')     #use this if the file is not .7z file \n",
        "Archive('datasets_task_1.7z').extractall(\".\")\n"
      ],
      "metadata": {
        "id": "KS6R4l9l6686"
      },
      "execution_count": 8,
      "outputs": []
    },
    {
      "cell_type": "markdown",
      "source": [
        "# Run .py files"
      ],
      "metadata": {
        "id": "vdr_7GlnLKSL"
      }
    },
    {
      "cell_type": "markdown",
      "source": [
        "**You can also edit the .py files directly in colab, so there is no need to download or edit them before you clone the repository**"
      ],
      "metadata": {
        "id": "jowSxLEyLVC3"
      }
    },
    {
      "cell_type": "markdown",
      "source": [
        "**You will probably have to change the paths in data_paths.py** "
      ],
      "metadata": {
        "id": "EaoVG4nxMQqw"
      }
    },
    {
      "cell_type": "code",
      "source": [
        "%cd .."
      ],
      "metadata": {
        "colab": {
          "base_uri": "https://localhost:8080/"
        },
        "id": "ccGXLfzgF2Wi",
        "outputId": "d9d76e48-dfca-47b4-c4ff-62f2688dc9cb"
      },
      "execution_count": 9,
      "outputs": [
        {
          "output_type": "stream",
          "name": "stdout",
          "text": [
            "/content/REAML2022-hackathon/provided_code/task1_code_frame\n"
          ]
        }
      ]
    },
    {
      "cell_type": "code",
      "source": [
        "!python Main_task1.py"
      ],
      "metadata": {
        "id": "YqBNixMEGoV5"
      },
      "execution_count": null,
      "outputs": []
    },
    {
      "cell_type": "markdown",
      "source": [],
      "metadata": {
        "id": "AENFCfmIJ65K"
      }
    }
  ]
}