{
  "nbformat": 4,
  "nbformat_minor": 0,
  "metadata": {
    "colab": {
      "provenance": []
    },
    "kernelspec": {
      "name": "python3",
      "display_name": "Python 3"
    },
    "language_info": {
      "name": "python"
    },
    "accelerator": "GPU",
    "gpuClass": "standard"
  },
  "cells": [
    {
      "cell_type": "markdown",
      "source": [
        "# **First clone the Repository**"
      ],
      "metadata": {
        "id": "_FpNOkR5J9jh"
      }
    },
    {
      "cell_type": "code",
      "execution_count": 1,
      "metadata": {
        "colab": {
          "base_uri": "https://localhost:8080/"
        },
        "id": "Wq-ackcIwPtW",
        "outputId": "89e153d0-cc46-4063-e548-0b0b63cb1233"
      },
      "outputs": [
        {
          "output_type": "stream",
          "name": "stdout",
          "text": [
            "Cloning into 'REAML2022-hackathon'...\n",
            "remote: Enumerating objects: 335, done.\u001b[K\n",
            "remote: Counting objects: 100% (88/88), done.\u001b[K\n",
            "remote: Compressing objects: 100% (59/59), done.\u001b[K\n",
            "remote: Total 335 (delta 24), reused 74 (delta 18), pack-reused 247\u001b[K\n",
            "Receiving objects: 100% (335/335), 19.05 MiB | 24.88 MiB/s, done.\n",
            "Resolving deltas: 100% (86/86), done.\n",
            "/content/REAML2022-hackathon\n"
          ]
        }
      ],
      "source": [
        "!git clone https://github.com/Konnsy/REAML2022-hackathon.git\n",
        "%cd REAML2022-hackathon\n"
      ]
    },
    {
      "cell_type": "code",
      "source": [
        "%cd provided_code/task1_code_frame/datasets"
      ],
      "metadata": {
        "colab": {
          "base_uri": "https://localhost:8080/"
        },
        "id": "5GX2FdLi1Isl",
        "outputId": "8e36b759-60a3-4658-dc48-84c6392eb3f6"
      },
      "execution_count": 2,
      "outputs": [
        {
          "output_type": "stream",
          "name": "stdout",
          "text": [
            "/content/REAML2022-hackathon/provided_code/task1_code_frame/datasets\n"
          ]
        }
      ]
    },
    {
      "cell_type": "markdown",
      "source": [
        "# access your google drive and find the path to the data sets "
      ],
      "metadata": {
        "id": "6OpU6I1dKYQV"
      }
    },
    {
      "cell_type": "markdown",
      "source": [
        "**Make sure you download the datasets to your google drive before doing this!** "
      ],
      "metadata": {
        "id": "C9HySgxGLzlW"
      }
    },
    {
      "cell_type": "code",
      "source": [
        "from google.colab import drive\n",
        "drive.mount('/content/drive')"
      ],
      "metadata": {
        "colab": {
          "base_uri": "https://localhost:8080/"
        },
        "id": "geZz5OXC4tL-",
        "outputId": "c32644b2-d995-41d6-f4ef-6de475d2ffff"
      },
      "execution_count": 4,
      "outputs": [
        {
          "output_type": "stream",
          "name": "stdout",
          "text": [
            "Mounted at /content/drive\n"
          ]
        }
      ]
    },
    {
      "cell_type": "code",
      "source": [
        "!pwd"
      ],
      "metadata": {
        "colab": {
          "base_uri": "https://localhost:8080/"
        },
        "id": "85NHL9S3Dqoq",
        "outputId": "ca82df7a-87a0-4cdb-f272-09b82e069436"
      },
      "execution_count": 5,
      "outputs": [
        {
          "output_type": "stream",
          "name": "stdout",
          "text": [
            "/content/REAML2022-hackathon/provided_code/task1_code_frame/datasets\n"
          ]
        }
      ]
    },
    {
      "cell_type": "markdown",
      "source": [
        "**Then you can copy the dataset from your Drive to the working directory** "
      ],
      "metadata": {
        "id": "AvUXol6SKy2G"
      }
    },
    {
      "cell_type": "code",
      "source": [
        "%cp -av \"/content/drive/MyDrive/datasets\" . "
      ],
      "metadata": {
        "id": "mlu3GY_BSPff"
      },
      "execution_count": null,
      "outputs": []
    },
    {
      "cell_type": "markdown",
      "source": [
        "# Run .py files"
      ],
      "metadata": {
        "id": "vdr_7GlnLKSL"
      }
    },
    {
      "cell_type": "markdown",
      "source": [
        "**You can also edit the .py files directly in colab, so there is no need to download or edit them before you clone the repository**"
      ],
      "metadata": {
        "id": "jowSxLEyLVC3"
      }
    },
    {
      "cell_type": "markdown",
      "source": [
        "**You will probably have to change the paths in data_paths.py** "
      ],
      "metadata": {
        "id": "EaoVG4nxMQqw"
      }
    },
    {
      "cell_type": "code",
      "source": [
        "%cd .."
      ],
      "metadata": {
        "colab": {
          "base_uri": "https://localhost:8080/"
        },
        "id": "ccGXLfzgF2Wi",
        "outputId": "c04d6286-44fd-4bea-9161-aae6a84946dc"
      },
      "execution_count": 7,
      "outputs": [
        {
          "output_type": "stream",
          "name": "stdout",
          "text": [
            "/content/REAML2022-hackathon/provided_code/task1_code_frame\n"
          ]
        }
      ]
    },
    {
      "cell_type": "code",
      "source": [
        "!python Main_task1.py"
      ],
      "metadata": {
        "colab": {
          "base_uri": "https://localhost:8080/"
        },
        "id": "YqBNixMEGoV5",
        "outputId": "94363ca9-921f-40b6-983a-89771c6de80b"
      },
      "execution_count": 8,
      "outputs": [
        {
          "output_type": "stream",
          "name": "stdout",
          "text": [
            "epoch 0\n",
            "training took 52.9ms per example (26s in total)\n",
            "loss: 0.10\n",
            "acc: 50.000% | tp: 200, tn: 0, fp: 200, fn: 0\n",
            "validation took 31.5ms per example (12s in total)\n",
            "epoch 1\n",
            "training took 32.2ms per example (16s in total)\n",
            "loss: 0.06\n",
            "acc: 57.500% | tp: 190, tn: 40, fp: 160, fn: 10\n",
            "validation took 26.7ms per example (10s in total)\n",
            "epoch 2\n",
            "training took 31.1ms per example (15s in total)\n",
            "loss: 0.12\n",
            "acc: 59.250% | tp: 200, tn: 37, fp: 163, fn: 0\n",
            "validation took 27.2ms per example (10s in total)\n",
            "epoch 3\n",
            "training took 31.1ms per example (15s in total)\n",
            "loss: 0.11\n",
            "acc: 71.500% | tp: 193, tn: 93, fp: 107, fn: 7\n",
            "validation took 26.7ms per example (10s in total)\n",
            "epoch 4\n",
            "training took 33.6ms per example (16s in total)\n",
            "loss: 0.09\n",
            "acc: 76.750% | tp: 177, tn: 130, fp: 70, fn: 23\n",
            "validation took 27.1ms per example (10s in total)\n",
            "best acc: 0.768 in epoch 4\n"
          ]
        }
      ]
    },
    {
      "cell_type": "markdown",
      "source": [],
      "metadata": {
        "id": "AENFCfmIJ65K"
      }
    }
  ]
}